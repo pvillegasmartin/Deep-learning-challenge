{
 "cells": [
  {
   "cell_type": "code",
   "execution_count": 181,
   "metadata": {},
   "outputs": [],
   "source": [
    "import numpy as np\n",
    "import pandas as pd\n",
    "import matplotlib.pyplot as plt\n",
    "\n",
    "import torch\n",
    "import torch.nn.functional as F\n",
    "from torch import nn, optim\n",
    "from torchvision import datasets, transforms\n",
    "from torch.utils.data import DataLoader"
   ]
  },
  {
   "cell_type": "code",
   "execution_count": 182,
   "metadata": {},
   "outputs": [],
   "source": [
    "transform = transforms.Compose([transforms.ToTensor(),\n",
    "                                transforms.Normalize((0.5,), (0.5,))])\n",
    "\n",
    "trainset = datasets.FashionMNIST('./F_MNIST_data/', download=True, train=True, transform=transform)\n",
    "testset = datasets.FashionMNIST('./F_MNIST_data/', download=True, train=False, transform=transform)\n",
    "\n",
    "trainloader = DataLoader(trainset, batch_size=64, shuffle=True)\n",
    "testloader = DataLoader(testset, batch_size=64, shuffle=True)"
   ]
  },
  {
   "cell_type": "code",
   "execution_count": 183,
   "metadata": {},
   "outputs": [],
   "source": [
    "def imshow(image, ax=None, title=None, normalize=True):\n",
    "    \"\"\"Imshow for Tensor.\"\"\"\n",
    "    if ax is None:\n",
    "        fig, ax = plt.subplots()\n",
    "    image = image.numpy().transpose((1, 2, 0))\n",
    "\n",
    "    if normalize:\n",
    "        mean = np.array([0.485, 0.456, 0.406])\n",
    "        std = np.array([0.229, 0.224, 0.225])\n",
    "        image = std * image + mean\n",
    "        image = np.clip(image, 0, 1)\n",
    "\n",
    "    ax.imshow(image)\n",
    "    ax.spines['top'].set_visible(False)\n",
    "    ax.spines['right'].set_visible(False)\n",
    "    ax.spines['left'].set_visible(False)\n",
    "    ax.spines['bottom'].set_visible(False)\n",
    "    ax.tick_params(axis='both', length=0)\n",
    "    ax.set_xticklabels('')\n",
    "    ax.set_yticklabels('')\n",
    "\n",
    "    return ax\n",
    "\n",
    "def view_classify(img, ps, version=\"MNIST\"):\n",
    "    ''' Function for viewing an image and it's predicted classes.\n",
    "    '''\n",
    "    ps = ps.data.numpy().squeeze()\n",
    "\n",
    "    fig, (ax1, ax2) = plt.subplots(figsize=(6,9), ncols=2)\n",
    "    ax1.imshow(img.resize_(1, 28, 28).numpy().squeeze())\n",
    "    ax1.axis('off')\n",
    "    ax2.barh(np.arange(10), ps)\n",
    "    ax2.set_aspect(0.1)\n",
    "    ax2.set_yticks(np.arange(10))\n",
    "    if version == \"MNIST\":\n",
    "        ax2.set_yticklabels(np.arange(10))\n",
    "    elif version == \"Fashion\":\n",
    "        ax2.set_yticklabels(['T-shirt/top',\n",
    "                            'Trouser',\n",
    "                            'Pullover',\n",
    "                            'Dress',\n",
    "                            'Coat',\n",
    "                            'Sandal',\n",
    "                            'Shirt',\n",
    "                            'Sneaker',\n",
    "                            'Bag',\n",
    "                            'Ankle Boot'], size='small')\n",
    "    ax2.set_title('Class Probability')\n",
    "    ax2.set_xlim(0, 1.1)\n",
    "\n",
    "    plt.tight_layout()"
   ]
  },
  {
   "cell_type": "code",
   "execution_count": 184,
   "metadata": {},
   "outputs": [],
   "source": [
    "class Network(nn.Module):\n",
    "\n",
    "    def __init__(self):\n",
    "        super().__init__()\n",
    "        self.fc1 = nn.Linear(784, 256)\n",
    "        self.fc2 = nn.Linear(256, 128)\n",
    "        self.fc3 = nn.Linear(128, 64)\n",
    "        self.fc4 = nn.Linear(64, 10)\n",
    "        \n",
    "    def forward(self, x):\n",
    "\n",
    "        x = x.view(x.shape[0], 784)\n",
    "\n",
    "        x = self.fc1(x)\n",
    "        x = F.relu(x)\n",
    "        x = self.fc2(x)\n",
    "        x = F.relu(x)\n",
    "        x = self.fc3(x)\n",
    "        x = F.relu(x)\n",
    "        x = self.fc4(x)\n",
    "        x = F.log_softmax(x)\n",
    "        \n",
    "        return x\n"
   ]
  },
  {
   "cell_type": "code",
   "execution_count": 185,
   "metadata": {},
   "outputs": [],
   "source": [
    "model = Network()\n",
    "\n",
    "criterion = nn.NLLLoss()\n",
    "optimizer = optim.SGD(model.parameters(), lr=0.1)\n",
    "\n",
    "epochs = 25"
   ]
  },
  {
   "cell_type": "code",
   "execution_count": 186,
   "metadata": {},
   "outputs": [],
   "source": [
    "def train(trainloader, model, criterion, optimizer):\n",
    "    size = len(trainloader.dataset)\n",
    "\n",
    "    model.train()\n",
    "    for i, (images, labels) in enumerate(iter(trainloader)):\n",
    "        \n",
    "        output = model(images)\n",
    "        loss = criterion(output, labels)\n",
    "\n",
    "        # backpropagation\n",
    "        optimizer.zero_grad()\n",
    "        loss.backward()\n",
    "        optimizer.step()\n",
    "\n",
    "        if i % 100 == 0:\n",
    "            loss, current = loss.item(), i * len(images)\n",
    "            # print(f\"Loss: {loss:>7f}  [{current:>5d}/{size:>5d}]\")\n",
    "            # print(f\"Loss: {loss:>7f}\")"
   ]
  },
  {
   "cell_type": "code",
   "execution_count": 187,
   "metadata": {},
   "outputs": [],
   "source": [
    "def test(testloader, model, criterion):\n",
    "    num_batches = len(testloader)\n",
    "    size = len(testloader.dataset)\n",
    "    test_loss, correct = 0, 0\n",
    "\n",
    "    model.eval()\n",
    "    with torch.no_grad():\n",
    "        for i, (images, labels) in enumerate(iter(testloader)):\n",
    "            output = model(images)\n",
    "\n",
    "            test_loss += criterion(output, labels).item()\n",
    "            correct += (output.argmax(1) == labels).type(torch.float).sum().item()\n",
    "\n",
    "        test_loss /= num_batches\n",
    "        correct /= size\n",
    "\n",
    "        if (correct*100) >= 90:\n",
    "            torch.save(model.state_dict(), 'model.pth')\n",
    "            \n",
    "        print(f\"Test Error: \\n Accuracy: {(correct*100):>0.1f}%, Avg loss: {test_loss:>8f} \\n\")\n",
    "        \n"
   ]
  },
  {
   "cell_type": "code",
   "execution_count": 188,
   "metadata": {},
   "outputs": [
    {
     "name": "stdout",
     "output_type": "stream",
     "text": [
      "Epoch 1\n"
     ]
    },
    {
     "name": "stderr",
     "output_type": "stream",
     "text": [
      "C:\\Users\\Igor\\AppData\\Local\\Temp/ipykernel_6648/3047343577.py:21: UserWarning: Implicit dimension choice for log_softmax has been deprecated. Change the call to include dim=X as an argument.\n",
      "  x = F.log_softmax(x)\n"
     ]
    },
    {
     "name": "stdout",
     "output_type": "stream",
     "text": [
      "Test Error: \n",
      " Accuracy: 81.2%, Avg loss: 0.496384 \n",
      "\n",
      "Epoch 2\n",
      "Test Error: \n",
      " Accuracy: 82.4%, Avg loss: 0.469967 \n",
      "\n",
      "Epoch 3\n",
      "Test Error: \n",
      " Accuracy: 84.5%, Avg loss: 0.413866 \n",
      "\n",
      "Epoch 4\n",
      "Test Error: \n",
      " Accuracy: 86.3%, Avg loss: 0.373108 \n",
      "\n",
      "Epoch 5\n",
      "Test Error: \n",
      " Accuracy: 81.0%, Avg loss: 0.532227 \n",
      "\n",
      "Epoch 6\n",
      "Test Error: \n",
      " Accuracy: 82.8%, Avg loss: 0.481191 \n",
      "\n",
      "Epoch 7\n",
      "Test Error: \n",
      " Accuracy: 87.7%, Avg loss: 0.339622 \n",
      "\n",
      "Epoch 8\n",
      "Test Error: \n",
      " Accuracy: 86.7%, Avg loss: 0.372487 \n",
      "\n",
      "Epoch 9\n",
      "Test Error: \n",
      " Accuracy: 87.5%, Avg loss: 0.348848 \n",
      "\n",
      "Epoch 10\n",
      "Test Error: \n",
      " Accuracy: 87.5%, Avg loss: 0.350868 \n",
      "\n",
      "Epoch 11\n",
      "Test Error: \n",
      " Accuracy: 87.5%, Avg loss: 0.350950 \n",
      "\n",
      "Epoch 12\n",
      "Test Error: \n",
      " Accuracy: 88.0%, Avg loss: 0.337418 \n",
      "\n",
      "Epoch 13\n",
      "Test Error: \n",
      " Accuracy: 87.5%, Avg loss: 0.365827 \n",
      "\n",
      "Epoch 14\n",
      "Test Error: \n",
      " Accuracy: 87.6%, Avg loss: 0.389534 \n",
      "\n",
      "Epoch 15\n",
      "Test Error: \n",
      " Accuracy: 88.1%, Avg loss: 0.345529 \n",
      "\n",
      "Epoch 16\n",
      "Test Error: \n",
      " Accuracy: 88.1%, Avg loss: 0.358608 \n",
      "\n",
      "Epoch 17\n",
      "Test Error: \n",
      " Accuracy: 89.3%, Avg loss: 0.330317 \n",
      "\n",
      "Epoch 18\n",
      "Test Error: \n",
      " Accuracy: 87.0%, Avg loss: 0.381999 \n",
      "\n",
      "Epoch 19\n",
      "Test Error: \n",
      " Accuracy: 87.9%, Avg loss: 0.364515 \n",
      "\n",
      "Epoch 20\n",
      "Test Error: \n",
      " Accuracy: 87.3%, Avg loss: 0.409592 \n",
      "\n",
      "Epoch 21\n",
      "Test Error: \n",
      " Accuracy: 82.4%, Avg loss: 0.628489 \n",
      "\n",
      "Epoch 22\n",
      "Test Error: \n",
      " Accuracy: 89.0%, Avg loss: 0.344099 \n",
      "\n",
      "Epoch 23\n",
      "Test Error: \n",
      " Accuracy: 89.0%, Avg loss: 0.342493 \n",
      "\n",
      "Epoch 24\n",
      "Test Error: \n",
      " Accuracy: 88.3%, Avg loss: 0.398642 \n",
      "\n",
      "Epoch 25\n",
      "Test Error: \n",
      " Accuracy: 88.2%, Avg loss: 0.383913 \n",
      "\n"
     ]
    }
   ],
   "source": [
    "for t in range(epochs):\n",
    "    print(f'Epoch {t+1}')\n",
    "    train(trainloader, model, criterion, optimizer)\n",
    "    test(testloader, model, criterion)\n"
   ]
  },
  {
   "cell_type": "code",
   "execution_count": 189,
   "metadata": {},
   "outputs": [
    {
     "name": "stderr",
     "output_type": "stream",
     "text": [
      "C:\\Users\\Igor\\AppData\\Local\\Temp/ipykernel_6648/3047343577.py:21: UserWarning: Implicit dimension choice for log_softmax has been deprecated. Change the call to include dim=X as an argument.\n",
      "  x = F.log_softmax(x)\n"
     ]
    },
    {
     "data": {
      "image/png": "[encoded data removed]",
      "text/plain": [
       "<Figure size 432x648 with 2 Axes>"
      ]
     },
     "metadata": {
      "image/png": {
       "height": 216,
       "width": 424
      },
      "needs_background": "light"
     },
     "output_type": "display_data"
    }
   ],
   "source": [
    "%matplotlib inline\n",
    "%config InlineBackend.figure_format = 'retina'\n",
    "\n",
    "dataiter = iter(testloader)\n",
    "images, labels = dataiter.next()\n",
    "img = images[1]\n",
    "\n",
    "ps = model(img)\n",
    "ps = torch.exp(ps)\n",
    "\n",
    "view_classify(img, ps, version='Fashion')"
   ]
  },
  {
   "cell_type": "code",
   "execution_count": 190,
   "metadata": {},
   "outputs": [
    {
     "ename": "SyntaxError",
     "evalue": "'break' outside loop (Temp/ipykernel_6648/668683560.py, line 1)",
     "output_type": "error",
     "traceback": [
      "\u001b[1;36m  File \u001b[1;32m\"C:\\Users\\Igor\\AppData\\Local\\Temp/ipykernel_6648/668683560.py\"\u001b[1;36m, line \u001b[1;32m1\u001b[0m\n\u001b[1;33m    break\u001b[0m\n\u001b[1;37m    ^\u001b[0m\n\u001b[1;31mSyntaxError\u001b[0m\u001b[1;31m:\u001b[0m 'break' outside loop\n"
     ]
    }
   ],
   "source": [
    "break"
   ]
  },
  {
   "cell_type": "code",
   "execution_count": null,
   "metadata": {},
   "outputs": [],
   "source": [
    "top_p, top_class = ps.topk(1, dim=1)\n",
    "# print(top_class[:10,:])\n",
    "top_p.shape\n",
    "equals = top_class == labels.view(top_class.shape)\n",
    "\n",
    "misclassified = [index for index,value in enumerate(equals) if value.item() is False]\n",
    "\n",
    "accuracy = torch.mean(equals.type(torch.FloatTensor))\n",
    "print(f'Accuracy: {accuracy.item()*100}%')"
   ]
  },
  {
   "cell_type": "code",
   "execution_count": null,
   "metadata": {},
   "outputs": [],
   "source": [
    "state_dict = torch.load('model.pth')\n",
    "model.load_state_dict(state_dict)"
   ]
  }
 ],
 "metadata": {
  "interpreter": {
   "hash": "d6e128dd2cf9bb12ecf94668e33e1546608d302a4f44df6f6afa2b8f73a532e1"
  },
  "kernelspec": {
   "display_name": "Python 3.9.7 64-bit ('Strive': conda)",
   "name": "python3"
  },
  "language_info": {
   "codemirror_mode": {
    "name": "ipython",
    "version": 3
   },
   "file_extension": ".py",
   "mimetype": "text/x-python",
   "name": "python",
   "nbconvert_exporter": "python",
   "pygments_lexer": "ipython3",
   "version": "3.9.7"
  }
 },
 "nbformat": 4,
 "nbformat_minor": 2
}
